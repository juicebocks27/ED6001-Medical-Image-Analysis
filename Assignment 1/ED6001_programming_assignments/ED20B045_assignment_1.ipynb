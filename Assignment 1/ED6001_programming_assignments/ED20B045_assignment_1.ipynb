{
  "cells": [
    {
      "cell_type": "code",
      "execution_count": null,
      "metadata": {
        "colab": {
          "base_uri": "https://localhost:8080/"
        },
        "id": "yidnc5rkqoNG",
        "outputId": "929c9de2-7c09-45be-eec1-d8a698bfc4d1"
      },
      "outputs": [],
      "source": [
        "!pip install pydicom\n",
        "!pip install Pillow"
      ]
    },
    {
      "cell_type": "code",
      "execution_count": null,
      "metadata": {
        "id": "hDXbZ60FXr-O"
      },
      "outputs": [],
      "source": [
        "import matplotlib.pyplot as plt\n",
        "import matplotlib.image as mpimg\n",
        "import numpy as np\n",
        "import os\n",
        "import cv2\n",
        "from PIL import Image\n",
        "import pydicom\n",
        "import matplotlib.pyplot as plt"
      ]
    },
    {
      "cell_type": "code",
      "execution_count": null,
      "metadata": {
        "colab": {
          "base_uri": "https://localhost:8080/"
        },
        "id": "63KqB291XlH_",
        "outputId": "16ec49d8-fab7-434a-aea7-971911cad23f"
      },
      "outputs": [],
      "source": [
        "from google.colab import drive\n",
        "drive.mount('/content/drive')"
      ]
    },
    {
      "cell_type": "code",
      "execution_count": null,
      "metadata": {
        "colab": {
          "base_uri": "https://localhost:8080/"
        },
        "id": "qat4ySlYaMWo",
        "outputId": "7da12404-b266-485f-f3c7-f4f2b42b0ba8"
      },
      "outputs": [],
      "source": [
        "folder = os.listdir('/content/drive/MyDrive/ED6001/Assignment_1/ED6001_programming_assignments')\n",
        "print(len(folder))"
      ]
    },
    {
      "cell_type": "code",
      "execution_count": null,
      "metadata": {
        "colab": {
          "base_uri": "https://localhost:8080/"
        },
        "id": "gFjVsNMiplW_",
        "outputId": "7f7e913b-a2d4-4e2f-8260-9a1aad8c9fe4"
      },
      "outputs": [],
      "source": [
        "def read_and_show_image(image_path):\n",
        "    try:\n",
        "        # Read the image file\n",
        "        image = Image.open(image_path)\n",
        "\n",
        "        # Show the image using matplotlib\n",
        "        plt.imshow(image)\n",
        "        plt.axis('off')\n",
        "        plt.show()\n",
        "\n",
        "    except Exception as e:\n",
        "        print(f\"An error occurred: {e}\")\n",
        "\n",
        "def read_and_show_dicom(dicom_path):\n",
        "    try:\n",
        "        # Read the DICOM file\n",
        "        ds = pydicom.dcmread(dicom_path)\n",
        "\n",
        "        # Get the pixel array from DICOM\n",
        "        pixel_array = ds.pixel_array\n",
        "\n",
        "        # Determine the number of frames and their dimensions\n",
        "        num_frames, height, width = pixel_array.shape\n",
        "\n",
        "        # Calculate the number of rows and columns needed to display the frames\n",
        "        rows = int(np.ceil(num_frames / 6))\n",
        "        cols = min(num_frames, 6)\n",
        "\n",
        "        # Calculate the figure size to adjust aspect ratio\n",
        "        figsize = (cols * 5, rows * 5)\n",
        "\n",
        "        # Create a figure with subplots and adjust aspect ratio\n",
        "        fig, axes = plt.subplots(rows, cols, figsize=figsize)\n",
        "        fig.subplots_adjust(wspace=0.1, hspace=0.1)  # Adjust spacing between subplots\n",
        "\n",
        "        # Display each frame in a subplot\n",
        "        for i in range(num_frames):\n",
        "            row_idx = i // cols\n",
        "            col_idx = i % cols\n",
        "            axes[row_idx, col_idx].imshow(pixel_array[i], cmap=plt.cm.bone)\n",
        "            axes[row_idx, col_idx].axis('off')\n",
        "\n",
        "        plt.tight_layout()\n",
        "        plt.show()\n",
        "\n",
        "    except Exception as e:\n",
        "        print(f\"An error occurred: {e}\")\n",
        "\n",
        "# Paths to images\n",
        "image_path_1 = '/content/drive/MyDrive/ED6001/Assignment_1/ED6001_programming_assignments/cxr_2.jpg'\n",
        "image_path_2 = '/content/drive/MyDrive/ED6001/Assignment_1/ED6001_programming_assignments/0002.DCM'\n",
        "image_path_3 = '/content/drive/MyDrive/ED6001/Assignment_1/ED6001_programming_assignments/file_example_TIFF_10MB.tiff'\n",
        "\n",
        "ds = pydicom.dcmread(image_path_2)\n",
        "print(\"Dimension of DICOM image are (First element signifies number of frames)\", ds.pixel_array.shape)"
      ]
    },
    {
      "cell_type": "code",
      "execution_count": null,
      "metadata": {
        "colab": {
          "base_uri": "https://localhost:8080/",
          "height": 406
        },
        "id": "R9KIKo9nqJfs",
        "outputId": "a247207f-52da-41f8-bd50-373ace7fe84c"
      },
      "outputs": [],
      "source": [
        "read_and_show_image(image_path_1)"
      ]
    },
    {
      "cell_type": "code",
      "execution_count": null,
      "metadata": {
        "colab": {
          "base_uri": "https://localhost:8080/",
          "height": 1000
        },
        "id": "gJ3pGbWesvxs",
        "outputId": "ec12728e-a9cb-4c24-fc84-d22098c9a468"
      },
      "outputs": [],
      "source": [
        "read_and_show_dicom(image_path_2)"
      ]
    },
    {
      "cell_type": "code",
      "execution_count": null,
      "metadata": {
        "colab": {
          "base_uri": "https://localhost:8080/",
          "height": 367
        },
        "id": "iAQCiYwPWuv6",
        "outputId": "71f5eeb4-4a8c-4d62-daa6-1516501a5fc4"
      },
      "outputs": [],
      "source": [
        "read_and_show_image(image_path_3)"
      ]
    },
    {
      "cell_type": "code",
      "execution_count": null,
      "metadata": {
        "colab": {
          "base_uri": "https://localhost:8080/",
          "height": 1000
        },
        "id": "L9wr82-Cttmf",
        "outputId": "3dfd32d8-3875-4caf-cfcc-246d685c557a"
      },
      "outputs": [],
      "source": [
        "from PIL import Image\n",
        "import matplotlib.pyplot as plt\n",
        "\n",
        "def zoom_image(image_path, zoom_factor):\n",
        "    try:\n",
        "        # Open the image using Pillow\n",
        "        img = Image.open(image_path)\n",
        "\n",
        "        # Display the original image\n",
        "        plt.figure(figsize=(4, 4))\n",
        "        plt.imshow(img)\n",
        "        plt.title(\"Original Image\")\n",
        "        plt.axis('off')\n",
        "        plt.show()\n",
        "\n",
        "        # Get the original dimensions\n",
        "        original_width, original_height = img.size\n",
        "\n",
        "        # Calculate the new dimensions after zooming\n",
        "        new_width = int(original_width * zoom_factor)\n",
        "        new_height = int(original_height * zoom_factor)\n",
        "\n",
        "        # Resize the image\n",
        "        zoomed_img = img.resize((new_width, new_height), resample=Image.BILINEAR)\n",
        "\n",
        "        # Display the zoomed image\n",
        "        plt.figure(figsize=(4*zoom_factor, 4*zoom_factor))\n",
        "        plt.imshow(zoomed_img)\n",
        "        plt.title(\"Zoomed Image\")\n",
        "        plt.axis('off')  # Turn off axis labels and ticks\n",
        "        plt.show()\n",
        "\n",
        "        print(\"Original image size is\", img.size, \"Zoomed Image size is\", zoomed_img.size)\n",
        "\n",
        "    except Exception as e:\n",
        "        print(f\"An error occurred: {e}\")\n",
        "\n",
        "# Call the function to zoom and display the images\n",
        "zoom_image(image_path_1, 2)"
      ]
    },
    {
      "cell_type": "code",
      "execution_count": null,
      "metadata": {
        "colab": {
          "base_uri": "https://localhost:8080/",
          "height": 434
        },
        "id": "gL4bbWOF2Qwh",
        "outputId": "e84de87d-a809-46e1-fe27-bdf1bf7d3299"
      },
      "outputs": [],
      "source": [
        "def display_specific_region(image_path, x1, y1, x2, y2):\n",
        "    try:\n",
        "        # Open the image using Pillow\n",
        "        img = Image.open(image_path)\n",
        "\n",
        "        # Crop the image to the specified region\n",
        "        cropped_img = img.crop((x1, y1, x2, y2))\n",
        "\n",
        "        # Display the cropped image\n",
        "        plt.imshow(cropped_img)\n",
        "        plt.show()\n",
        "\n",
        "    except Exception as e:\n",
        "        print(f\"An error occurred: {e}\")\n",
        "\n",
        "\n",
        "# Define the coordinates of the region you want to display (x1, y1, x2, y2)\n",
        "region_x1 = 50\n",
        "region_y1 = 50\n",
        "region_x2 = 250\n",
        "region_y2 = 250\n",
        "\n",
        "display_specific_region(image_path_1, region_x1, region_y1, region_x2, region_y2)"
      ]
    },
    {
      "cell_type": "code",
      "execution_count": null,
      "metadata": {
        "colab": {
          "base_uri": "https://localhost:8080/"
        },
        "id": "8fW2p5FG5SGZ",
        "outputId": "36865016-5061-4cfa-a71e-7421e7ad81c6"
      },
      "outputs": [],
      "source": [
        "img = Image.open(image_path_3)\n",
        "print(\"Dimension of the image to be tiled is\", img.size)"
      ]
    },
    {
      "cell_type": "code",
      "execution_count": null,
      "metadata": {
        "id": "kAS41ytX4G4a"
      },
      "outputs": [],
      "source": [
        "def tile_image(image_path, tile_size):\n",
        "    try:\n",
        "        # Open the image using Pillow\n",
        "        img = Image.open(image_path)\n",
        "\n",
        "        # Get the dimensions of the original image\n",
        "        img_width, img_height = img.size\n",
        "\n",
        "        # Calculate the number of tiles in each dimension\n",
        "        num_tiles_x = img_width // tile_size[0]\n",
        "        num_tiles_y = img_height // tile_size[1]\n",
        "\n",
        "        # Create a list to store the tiled images\n",
        "        tiled_images = []\n",
        "\n",
        "        # Iterate over rows and columns to create tiles\n",
        "        for y in range(num_tiles_y):\n",
        "            for x in range(num_tiles_x):\n",
        "                left = x * tile_size[0]\n",
        "                upper = y * tile_size[1]\n",
        "                right = left + tile_size[0]\n",
        "                lower = upper + tile_size[1]\n",
        "                tile = img.crop((left, upper, right, lower))\n",
        "                tiled_images.append(tile)\n",
        "\n",
        "        print(\"Number of tile(s) are\", len(tiled_images))\n",
        "\n",
        "        return tiled_images\n",
        "\n",
        "    except Exception as e:\n",
        "        print(f\"An error occurred: {e}\")\n",
        "        return []\n"
      ]
    },
    {
      "cell_type": "code",
      "execution_count": null,
      "metadata": {
        "colab": {
          "base_uri": "https://localhost:8080/",
          "height": 1000
        },
        "id": "mw-s7Efp6Ent",
        "outputId": "32a2befb-c24f-456d-c6b1-e296c37e0150"
      },
      "outputs": [],
      "source": [
        "# Define the tile size (width, height)\n",
        "tile_size = (256, 256)\n",
        "\n",
        "tiled_images = tile_image(image_path_3, tile_size)\n",
        "\n",
        "# Calculate the number of rows and columns for tiling\n",
        "num_rows = img.size[1] // tile_size[1]\n",
        "num_cols = img.size[0] // tile_size[0]\n",
        "\n",
        "# Create a figure with subplots\n",
        "fig, axes = plt.subplots(num_rows, num_cols, figsize=(16, 16))\n",
        "\n",
        "# Loop through the rows and columns to plot the tiles\n",
        "for row in range(num_rows):\n",
        "    for col in range(num_cols):\n",
        "        ax = axes[row, col]\n",
        "        tile_idx = row * num_cols + col\n",
        "        ax.imshow(tiled_images[tile_idx])\n",
        "        ax.axis('off')\n",
        "\n",
        "plt.tight_layout()\n",
        "plt.show()\n"
      ]
    },
    {
      "cell_type": "code",
      "execution_count": null,
      "metadata": {
        "colab": {
          "base_uri": "https://localhost:8080/",
          "height": 1000
        },
        "id": "7t73tthp47Nq",
        "outputId": "c0f97ead-300a-4f7e-cfa4-62121de5bb6c"
      },
      "outputs": [],
      "source": [
        "tile_size = (256, 256)\n",
        "\n",
        "tiled_images = tile_image(image_path_3, tile_size)\n",
        "\n",
        "# Display tiles one after other\n",
        "for idx, tile in enumerate(tiled_images):\n",
        "    plt.imshow(tile)\n",
        "    plt.show()"
      ]
    },
    {
      "cell_type": "code",
      "execution_count": null,
      "metadata": {
        "id": "TIWUyf4HV4Yr"
      },
      "outputs": [],
      "source": []
    }
  ],
  "metadata": {
    "colab": {
      "provenance": []
    },
    "kernelspec": {
      "display_name": "Python 3",
      "name": "python3"
    },
    "language_info": {
      "name": "python"
    }
  },
  "nbformat": 4,
  "nbformat_minor": 0
}
